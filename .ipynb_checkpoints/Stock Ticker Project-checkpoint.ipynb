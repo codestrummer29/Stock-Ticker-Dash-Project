{
 "cells": [
  {
   "cell_type": "code",
   "execution_count": 8,
   "metadata": {},
   "outputs": [],
   "source": [
    "import dash\n",
    "import dash_core_components as dcc\n",
    "import dash_html_components as html\n",
    "from dash.dependencies import Input,Output\n",
    "import plotly.graph_objs as go\n",
    "import pandas as pd\n",
    "from datetime import datetime"
   ]
  },
  {
   "cell_type": "code",
   "execution_count": 2,
   "metadata": {},
   "outputs": [],
   "source": [
    "app = dash.Dash()"
   ]
  },
  {
   "cell_type": "code",
   "execution_count": 9,
   "metadata": {},
   "outputs": [],
   "source": [
    "app.layout = html.Div([\n",
    "    html.H1('Stock Ticker Dashboard'),\n",
    "    html.Div([\n",
    "        html.H3('Select stock symbols:'),\n",
    "        dcc.Dropdown(\n",
    "            id='dropdown',\n",
    "            options=[\n",
    "        {'label': 'New York City', 'value': 'NYC'},\n",
    "        {'label': 'Montreal', 'value': 'MTL'},\n",
    "        {'label': 'San Francisco', 'value': 'SF'}\n",
    "            ],\n",
    "            value=['MTL', 'NYC'],\n",
    "            multi=True\n",
    "        )  \n",
    "    ],style={'display':'inline-block','vertical-align':'top'}),\n",
    "    html.Div([\n",
    "        html.H3('Select stock symbols:'),\n",
    "        dcc.DatePickerRange(\n",
    "            id='datepicker',\n",
    "            min_date_allowed=datetime(2015, 1, 1),\n",
    "            max_date_allowed=datetime.today(),\n",
    "            start_date=datetime(2018, 1, 1),\n",
    "            end_date=datetime.today()\n",
    "        )  \n",
    "    ],style={'display':'inline-block','vertical-align':'top'}),\n",
    "    html.Div([\n",
    "        html.Button(\n",
    "            id='submit-button',\n",
    "            n_clicks=0,\n",
    "            children='Submit',\n",
    "            style={'fontSize':24, 'marginLeft':'30px'}\n",
    "        ),\n",
    "    ], style={'display':'inline-block','vertical-align':'top'}),\n",
    "    dcc.Graph(id='stock-graph')\n",
    "])"
   ]
  },
  {
   "cell_type": "code",
   "execution_count": null,
   "metadata": {},
   "outputs": [
    {
     "name": "stdout",
     "output_type": "stream",
     "text": [
      "Dash is running on http://127.0.0.1:8050/\n",
      "\n",
      " * Serving Flask app \"__main__\" (lazy loading)\n",
      " * Environment: production\n",
      "   WARNING: This is a development server. Do not use it in a production deployment.\n",
      "   Use a production WSGI server instead.\n",
      " * Debug mode: off\n"
     ]
    },
    {
     "name": "stderr",
     "output_type": "stream",
     "text": [
      " * Running on http://127.0.0.1:8050/ (Press CTRL+C to quit)\n",
      "127.0.0.1 - - [05/Feb/2021 02:06:21] \"\u001b[37mGET / HTTP/1.1\u001b[0m\" 200 -\n",
      "127.0.0.1 - - [05/Feb/2021 02:06:21] \"\u001b[37mGET /_dash-component-suites/dash_html_components/dash_html_components.v1_1_0m1598890606.min.js HTTP/1.1\u001b[0m\" 200 -\n",
      "127.0.0.1 - - [05/Feb/2021 02:06:21] \"\u001b[37mGET /_dash-component-suites/dash_renderer/react@16.v1_7_0m1598890605.13.0.min.js HTTP/1.1\u001b[0m\" 200 -\n",
      "127.0.0.1 - - [05/Feb/2021 02:06:21] \"\u001b[37mGET /_dash-component-suites/dash_renderer/prop-types@15.v1_7_0m1598890605.7.2.min.js HTTP/1.1\u001b[0m\" 200 -\n",
      "127.0.0.1 - - [05/Feb/2021 02:06:21] \"\u001b[37mGET /_dash-component-suites/dash_renderer/polyfill@7.v1_7_0m1598890605.8.7.min.js HTTP/1.1\u001b[0m\" 200 -\n",
      "127.0.0.1 - - [05/Feb/2021 02:06:21] \"\u001b[37mGET /_dash-component-suites/dash_renderer/react-dom@16.v1_7_0m1598890605.13.0.min.js HTTP/1.1\u001b[0m\" 200 -\n",
      "127.0.0.1 - - [05/Feb/2021 02:06:21] \"\u001b[37mGET /_dash-component-suites/dash_core_components/dash_core_components.v1_11_0m1598890606.min.js HTTP/1.1\u001b[0m\" 200 -\n",
      "127.0.0.1 - - [05/Feb/2021 02:06:21] \"\u001b[37mGET /_dash-component-suites/dash_core_components/dash_core_components-shared.v1_11_0m1598890606.js HTTP/1.1\u001b[0m\" 200 -\n",
      "127.0.0.1 - - [05/Feb/2021 02:06:21] \"\u001b[37mGET /_dash-component-suites/dash_renderer/dash_renderer.v1_7_0m1598890605.min.js HTTP/1.1\u001b[0m\" 200 -\n",
      "127.0.0.1 - - [05/Feb/2021 02:06:21] \"\u001b[37mGET /apple-touch-icon-precomposed.png HTTP/1.1\u001b[0m\" 200 -\n",
      "127.0.0.1 - - [05/Feb/2021 02:06:21] \"\u001b[37mGET /_favicon.ico?v=1.15.0 HTTP/1.1\u001b[0m\" 200 -\n",
      "127.0.0.1 - - [05/Feb/2021 02:06:21] \"\u001b[37mGET /_dash-dependencies HTTP/1.1\u001b[0m\" 200 -\n",
      "127.0.0.1 - - [05/Feb/2021 02:06:21] \"\u001b[37mGET /_dash-layout HTTP/1.1\u001b[0m\" 200 -\n",
      "127.0.0.1 - - [05/Feb/2021 02:06:21] \"\u001b[37mGET /apple-touch-icon.png HTTP/1.1\u001b[0m\" 200 -\n",
      "127.0.0.1 - - [05/Feb/2021 02:06:22] \"\u001b[37mGET /_dash-component-suites/dash_core_components/async-dropdown.v1_11_0m1598373133.js HTTP/1.1\u001b[0m\" 200 -\n",
      "127.0.0.1 - - [05/Feb/2021 02:06:22] \"\u001b[37mGET /_dash-component-suites/dash_core_components/async-graph.v1_11_0m1598373133.js HTTP/1.1\u001b[0m\" 200 -\n",
      "127.0.0.1 - - [05/Feb/2021 02:06:22] \"\u001b[37mGET /_dash-component-suites/dash_core_components/async-datepicker.v1_11_0m1598373133.js HTTP/1.1\u001b[0m\" 200 -\n",
      "127.0.0.1 - - [05/Feb/2021 02:06:22] \"\u001b[37mGET /_dash-component-suites/dash_core_components/async-plotlyjs.v1_11_0m1598373133.js HTTP/1.1\u001b[0m\" 200 -\n",
      "127.0.0.1 - - [05/Feb/2021 02:06:51] \"\u001b[37mGET /_dash-component-suites/dash_core_components/dash_core_components-shared.js.map HTTP/1.1\u001b[0m\" 200 -\n",
      "127.0.0.1 - - [05/Feb/2021 02:06:51] \"\u001b[37mGET /_dash-component-suites/dash_core_components/async-graph.js.map HTTP/1.1\u001b[0m\" 200 -\n",
      "127.0.0.1 - - [05/Feb/2021 02:06:51] \"\u001b[37mGET /_dash-component-suites/dash_html_components/dash_html_components.min.js.map HTTP/1.1\u001b[0m\" 200 -\n",
      "127.0.0.1 - - [05/Feb/2021 02:06:52] \"\u001b[37mGET /_dash-component-suites/dash_core_components/dash_core_components.min.js.map HTTP/1.1\u001b[0m\" 200 -\n",
      "127.0.0.1 - - [05/Feb/2021 02:06:52] \"\u001b[37mGET /_dash-component-suites/dash_core_components/async-dropdown.js.map HTTP/1.1\u001b[0m\" 200 -\n",
      "127.0.0.1 - - [05/Feb/2021 02:06:52] \"\u001b[37mGET /_dash-component-suites/dash_core_components/async-datepicker.js.map HTTP/1.1\u001b[0m\" 200 -\n",
      "127.0.0.1 - - [05/Feb/2021 02:07:46] \"\u001b[37mGET /_dash-component-suites/dash_core_components/async-graph.js.map HTTP/1.1\u001b[0m\" 200 -\n",
      "127.0.0.1 - - [05/Feb/2021 02:07:46] \"\u001b[37mGET /_dash-component-suites/dash_core_components/dash_core_components-shared.js.map HTTP/1.1\u001b[0m\" 200 -\n",
      "127.0.0.1 - - [05/Feb/2021 02:07:46] \"\u001b[37mGET /_dash-component-suites/dash_html_components/dash_html_components.min.js.map HTTP/1.1\u001b[0m\" 200 -\n",
      "127.0.0.1 - - [05/Feb/2021 02:07:46] \"\u001b[37mGET /_dash-component-suites/dash_core_components/dash_core_components.min.js.map HTTP/1.1\u001b[0m\" 200 -\n",
      "127.0.0.1 - - [05/Feb/2021 02:07:46] \"\u001b[37mGET /_dash-component-suites/dash_core_components/async-dropdown.js.map HTTP/1.1\u001b[0m\" 200 -\n",
      "127.0.0.1 - - [05/Feb/2021 02:07:46] \"\u001b[37mGET /_dash-component-suites/dash_core_components/async-datepicker.js.map HTTP/1.1\u001b[0m\" 200 -\n"
     ]
    }
   ],
   "source": [
    "if __name__ == '__main__':\n",
    "    app.run_server()"
   ]
  },
  {
   "cell_type": "code",
   "execution_count": null,
   "metadata": {},
   "outputs": [],
   "source": []
  }
 ],
 "metadata": {
  "kernelspec": {
   "display_name": "Python 3",
   "language": "python",
   "name": "python3"
  },
  "language_info": {
   "codemirror_mode": {
    "name": "ipython",
    "version": 3
   },
   "file_extension": ".py",
   "mimetype": "text/x-python",
   "name": "python",
   "nbconvert_exporter": "python",
   "pygments_lexer": "ipython3",
   "version": "3.7.6"
  }
 },
 "nbformat": 4,
 "nbformat_minor": 4
}
