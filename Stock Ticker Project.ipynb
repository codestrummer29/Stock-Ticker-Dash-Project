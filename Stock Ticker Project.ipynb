{
 "cells": [
  {
   "cell_type": "code",
   "execution_count": 1,
   "metadata": {},
   "outputs": [
    {
     "name": "stderr",
     "output_type": "stream",
     "text": [
      "/opt/anaconda3/lib/python3.7/site-packages/pandas_datareader/compat/__init__.py:7: FutureWarning:\n",
      "\n",
      "pandas.util.testing is deprecated. Use the functions in the public API at pandas.testing instead.\n",
      "\n"
     ]
    }
   ],
   "source": [
    "import dash\n",
    "import dash_core_components as dcc\n",
    "import dash_html_components as html\n",
    "from dash.dependencies import Input,Output,State\n",
    "import plotly.graph_objs as go\n",
    "import pandas as pd\n",
    "from datetime import datetime\n",
    "import pandas_datareader.data as web"
   ]
  },
  {
   "cell_type": "code",
   "execution_count": 2,
   "metadata": {},
   "outputs": [],
   "source": [
    "app = dash.Dash()"
   ]
  },
  {
   "cell_type": "code",
   "execution_count": 3,
   "metadata": {},
   "outputs": [],
   "source": [
    "nsdq = pd.read_csv('NASDAQcompanylist.csv')"
   ]
  },
  {
   "cell_type": "code",
   "execution_count": 4,
   "metadata": {},
   "outputs": [
    {
     "data": {
      "text/html": [
       "<div>\n",
       "<style scoped>\n",
       "    .dataframe tbody tr th:only-of-type {\n",
       "        vertical-align: middle;\n",
       "    }\n",
       "\n",
       "    .dataframe tbody tr th {\n",
       "        vertical-align: top;\n",
       "    }\n",
       "\n",
       "    .dataframe thead th {\n",
       "        text-align: right;\n",
       "    }\n",
       "</style>\n",
       "<table border=\"1\" class=\"dataframe\">\n",
       "  <thead>\n",
       "    <tr style=\"text-align: right;\">\n",
       "      <th></th>\n",
       "      <th>Symbol</th>\n",
       "      <th>Name</th>\n",
       "      <th>LastSale</th>\n",
       "      <th>MarketCap</th>\n",
       "      <th>IPOyear</th>\n",
       "      <th>Sector</th>\n",
       "      <th>Industry</th>\n",
       "    </tr>\n",
       "  </thead>\n",
       "  <tbody>\n",
       "    <tr>\n",
       "      <th>0</th>\n",
       "      <td>ABMD</td>\n",
       "      <td>ABIOMED, Inc.</td>\n",
       "      <td>286.22</td>\n",
       "      <td>1.267320e+10</td>\n",
       "      <td>NaN</td>\n",
       "      <td>Health Care</td>\n",
       "      <td>Medical/Dental Instruments</td>\n",
       "    </tr>\n",
       "    <tr>\n",
       "      <th>1</th>\n",
       "      <td>ATVI</td>\n",
       "      <td>Activision Blizzard, Inc</td>\n",
       "      <td>64.56</td>\n",
       "      <td>4.897726e+10</td>\n",
       "      <td>NaN</td>\n",
       "      <td>Technology</td>\n",
       "      <td>Computer Software: Prepackaged Software</td>\n",
       "    </tr>\n",
       "    <tr>\n",
       "      <th>2</th>\n",
       "      <td>ADBE</td>\n",
       "      <td>Adobe Systems Incorporated</td>\n",
       "      <td>218.61</td>\n",
       "      <td>1.076590e+11</td>\n",
       "      <td>1986.0</td>\n",
       "      <td>Technology</td>\n",
       "      <td>Computer Software: Prepackaged Software</td>\n",
       "    </tr>\n",
       "    <tr>\n",
       "      <th>3</th>\n",
       "      <td>AMD</td>\n",
       "      <td>Advanced Micro Devices, Inc.</td>\n",
       "      <td>9.61</td>\n",
       "      <td>9.313356e+09</td>\n",
       "      <td>NaN</td>\n",
       "      <td>Technology</td>\n",
       "      <td>Semiconductors</td>\n",
       "    </tr>\n",
       "    <tr>\n",
       "      <th>4</th>\n",
       "      <td>AGNC</td>\n",
       "      <td>AGNC Investment Corp.</td>\n",
       "      <td>18.95</td>\n",
       "      <td>7.415454e+09</td>\n",
       "      <td>2008.0</td>\n",
       "      <td>Consumer Services</td>\n",
       "      <td>Real Estate Investment Trusts</td>\n",
       "    </tr>\n",
       "  </tbody>\n",
       "</table>\n",
       "</div>"
      ],
      "text/plain": [
       "  Symbol                          Name  LastSale     MarketCap  IPOyear  \\\n",
       "0   ABMD                 ABIOMED, Inc.    286.22  1.267320e+10      NaN   \n",
       "1   ATVI      Activision Blizzard, Inc     64.56  4.897726e+10      NaN   \n",
       "2   ADBE    Adobe Systems Incorporated    218.61  1.076590e+11   1986.0   \n",
       "3    AMD  Advanced Micro Devices, Inc.      9.61  9.313356e+09      NaN   \n",
       "4   AGNC         AGNC Investment Corp.     18.95  7.415454e+09   2008.0   \n",
       "\n",
       "              Sector                                 Industry  \n",
       "0        Health Care               Medical/Dental Instruments  \n",
       "1         Technology  Computer Software: Prepackaged Software  \n",
       "2         Technology  Computer Software: Prepackaged Software  \n",
       "3         Technology                           Semiconductors  \n",
       "4  Consumer Services            Real Estate Investment Trusts  "
      ]
     },
     "execution_count": 4,
     "metadata": {},
     "output_type": "execute_result"
    }
   ],
   "source": [
    "nsdq.head()"
   ]
  },
  {
   "cell_type": "code",
   "execution_count": 5,
   "metadata": {},
   "outputs": [],
   "source": [
    "options = []\n",
    "for x in nsdq.index:\n",
    "    options.append({'label':nsdq['Name'][x],'value':nsdq['Symbol'][x]})"
   ]
  },
  {
   "cell_type": "code",
   "execution_count": 6,
   "metadata": {},
   "outputs": [],
   "source": [
    "app.layout = html.Div([\n",
    "    html.H1('Stock Ticker Dashboard'),\n",
    "    html.Div([\n",
    "        html.H3('Select stock symbols:'),\n",
    "        dcc.Dropdown(\n",
    "            id='dropdown',\n",
    "            options=options,\n",
    "            value=['TSLA'],\n",
    "            multi=True\n",
    "        )  \n",
    "    ],style={'display':'inline-block','vertical-align':'top','padding':'15px','width':'30%'}),\n",
    "    html.Div([\n",
    "        html.H3('Select stock symbols:'),\n",
    "        dcc.DatePickerRange(\n",
    "            id='datepicker',\n",
    "            min_date_allowed=datetime(2015, 1, 1),\n",
    "            max_date_allowed=datetime.today(),\n",
    "            start_date=datetime(2018, 1, 1),\n",
    "            end_date=datetime.today()\n",
    "        )  \n",
    "    ],style={'display':'inline-block','vertical-align':'top','padding':'15px'}),\n",
    "    html.Div([\n",
    "        html.Button(\n",
    "            id='submit-button',\n",
    "            n_clicks=0,\n",
    "            children='Submit',\n",
    "            style={'fontSize':24, 'marginLeft':'30px'}\n",
    "        ),\n",
    "    ], style={'display':'inline-block','padding':'15px'}),\n",
    "    dcc.Graph(id='stock-graph')\n",
    "])"
   ]
  },
  {
   "cell_type": "code",
   "execution_count": 7,
   "metadata": {},
   "outputs": [],
   "source": [
    "@app.callback(Output('stock-graph','figure'),[Input('submit-button','n_clicks')],\n",
    "             [State('dropdown','value'),State('datepicker','start_date'),State('datepicker','end_date')])\n",
    "def update_graph(n_clicks,stockticker,start_date,end_date):\n",
    "    start = datetime.strptime(start_date[:10],'%Y-%m-%d')\n",
    "    end = datetime.strptime(end_date[:10],'%Y-%m-%d')\n",
    "    \n",
    "    traces = []\n",
    "    for tick in stockticker:\n",
    "        df = web.get_data_tiingo(tick, start, end, api_key=\"1af3148b237a675bc6ee5a56102b2e37de46f194\")\n",
    "        traces.append({'x':df.index.get_level_values(1),'y':df.close,'name':tick})\n",
    "    \n",
    "    fig = {\n",
    "        'data':traces,\n",
    "        'layout':{'title':'Graph'}\n",
    "    }\n",
    "    return fig"
   ]
  },
  {
   "cell_type": "code",
   "execution_count": 8,
   "metadata": {},
   "outputs": [
    {
     "name": "stdout",
     "output_type": "stream",
     "text": [
      "Dash is running on http://127.0.0.1:8050/\n",
      "\n",
      " * Serving Flask app \"__main__\" (lazy loading)\n",
      " * Environment: production\n",
      "   WARNING: This is a development server. Do not use it in a production deployment.\n",
      "   Use a production WSGI server instead.\n",
      " * Debug mode: off\n"
     ]
    },
    {
     "name": "stderr",
     "output_type": "stream",
     "text": [
      " * Running on http://127.0.0.1:8050/ (Press CTRL+C to quit)\n",
      "127.0.0.1 - - [05/Feb/2021 04:11:50] \"\u001b[37mGET / HTTP/1.1\u001b[0m\" 200 -\n",
      "127.0.0.1 - - [05/Feb/2021 04:11:51] \"\u001b[37mGET /_dash-dependencies HTTP/1.1\u001b[0m\" 200 -\n",
      "127.0.0.1 - - [05/Feb/2021 04:11:51] \"\u001b[37mGET /_dash-layout HTTP/1.1\u001b[0m\" 200 -\n",
      "127.0.0.1 - - [05/Feb/2021 04:11:53] \"\u001b[37mPOST /_dash-update-component HTTP/1.1\u001b[0m\" 200 -\n",
      "127.0.0.1 - - [05/Feb/2021 04:12:15] \"\u001b[37mPOST /_dash-update-component HTTP/1.1\u001b[0m\" 200 -\n",
      "127.0.0.1 - - [05/Feb/2021 04:12:37] \"\u001b[37mPOST /_dash-update-component HTTP/1.1\u001b[0m\" 200 -\n",
      "127.0.0.1 - - [05/Feb/2021 04:13:21] \"\u001b[37mPOST /_dash-update-component HTTP/1.1\u001b[0m\" 200 -\n"
     ]
    }
   ],
   "source": [
    "if __name__ == '__main__':\n",
    "    app.run_server()"
   ]
  },
  {
   "cell_type": "code",
   "execution_count": null,
   "metadata": {},
   "outputs": [],
   "source": []
  }
 ],
 "metadata": {
  "kernelspec": {
   "display_name": "Python 3",
   "language": "python",
   "name": "python3"
  },
  "language_info": {
   "codemirror_mode": {
    "name": "ipython",
    "version": 3
   },
   "file_extension": ".py",
   "mimetype": "text/x-python",
   "name": "python",
   "nbconvert_exporter": "python",
   "pygments_lexer": "ipython3",
   "version": "3.7.6"
  }
 },
 "nbformat": 4,
 "nbformat_minor": 4
}
